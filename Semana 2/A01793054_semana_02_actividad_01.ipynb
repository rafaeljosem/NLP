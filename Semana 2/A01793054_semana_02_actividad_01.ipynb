{
  "cells": [
    {
      "cell_type": "markdown",
      "metadata": {
        "id": "759SG4TyfbUn"
      },
      "source": [
        "#**Maestría en Inteligencia Artificial Aplicada**\n",
        "##**Curso: Procesamiento de Lenguaje Natural (NLP)**\n",
        "###Tecnológico de Monterrey\n",
        "###Prof Luis Eduardo Falcón Morales\n",
        "\n",
        "## **Adtividad de la Semana 02**\n",
        "###**Introducción al procesamiento de texto.**"
      ]
    },
    {
      "cell_type": "markdown",
      "metadata": {
        "id": "6ue1YAKx3XDo"
      },
      "source": [
        "En esta actividad deberás utilizar los datos del siguiente archivo que se encuentra en Canvas:\n",
        "\n",
        "MNA_NLP_semana_02_Actividad_datos.txt\n",
        "\n",
        "El archivo contiene comentarios en inglés sobre servicios de comida de la página de Yelp: https://www.yelp.com/ . \n",
        "\n",
        "Son mil comentarios y forman parte del conjunto de datos que se encuentra en el Machine Learning Repository de la UCI, llamado \"Sentiment Labelled Sentences\": https://archive.ics.uci.edu/ml/datasets/Sentiment+Labelled+Sentences#\n"
      ]
    },
    {
      "cell_type": "markdown",
      "metadata": {
        "id": "Zj-h4drXD-X9"
      },
      "source": [
        "#**Parte 1. Cargamos los datos.**   "
      ]
    },
    {
      "cell_type": "markdown",
      "metadata": {
        "id": "BY6yifxscfrx"
      },
      "source": [
        "Cargar los datos del archivo indicado y obtener una lista de longitud de 1000 strings/comentarios. \n",
        "\n",
        "Por el momento solamente requerimos las bibliotecas de Numpy y re, para el manejo de los arreglos y de las expresiones regulares en Python.\n",
        "\n",
        "En particular, no necesitarás en esta actividad la biblioteca de Pandas.\n",
        "\n",
        "###**NOTA: En esta actividad no debes importar nada más, con estas dos bibliotecas será *suficiente*.**"
      ]
    },
    {
      "cell_type": "code",
      "execution_count": 53,
      "metadata": {
        "id": "OJ26dAfhdFnf"
      },
      "outputs": [],
      "source": [
        "import numpy as np    # importamos Numpy para el manejo de los arreglos.\n",
        "import re             # importamos re para el manejo de las expresiones regulares."
      ]
    },
    {
      "cell_type": "code",
      "execution_count": 54,
      "metadata": {
        "id": "QHUmJyjDdGNP"
      },
      "outputs": [],
      "source": [
        "# Ejecuta las siguientes instrucciones para cargar la información del achivo dado:\n",
        "\n",
        "with open('MNA_NLP_semana_02_Actividad_datos.txt',        # puedes actualizar la ruta a tu archivo, en dado caso.\n",
        "          mode='r',     # abrimos el archivo en modo lectura.\n",
        "          ) as f:\n",
        "    docs = f.readlines()    # separamos cada comentario por líneas\n",
        "\n",
        "f.close()  # ya que tenemos la información en la variable docs, cerramos el archivo"
      ]
    },
    {
      "cell_type": "code",
      "execution_count": 55,
      "metadata": {
        "id": "L6WzrSrodG-Y"
      },
      "outputs": [
        {
          "data": {
            "text/plain": [
              "True"
            ]
          },
          "execution_count": 55,
          "metadata": {},
          "output_type": "execute_result"
        }
      ],
      "source": [
        "type(docs) == list   # Verifica que tu variable \"docs\" es una lista"
      ]
    },
    {
      "cell_type": "code",
      "execution_count": 56,
      "metadata": {
        "id": "QIK1u9WS2FtS"
      },
      "outputs": [
        {
          "data": {
            "text/plain": [
              "True"
            ]
          },
          "execution_count": 56,
          "metadata": {},
          "output_type": "execute_result"
        }
      ],
      "source": [
        "len(docs)==1000  # verifica que la longitud de \"docs\" es de mil comentarios."
      ]
    },
    {
      "cell_type": "code",
      "execution_count": 57,
      "metadata": {
        "id": "9AMLIfQvJqNZ"
      },
      "outputs": [
        {
          "data": {
            "text/plain": [
              "['Wow... Loved this place.\\n',\n",
              " 'Crust is not good.\\n',\n",
              " 'Not tasty and the texture was just nasty.\\n',\n",
              " 'Stopped by during the late May bank holiday off Rick Steve recommendation and loved it.\\n',\n",
              " 'The selection on the menu was great and so were the prices.\\n',\n",
              " 'Now I am getting angry and I want my damn pho.\\n',\n",
              " \"Honeslty it didn't taste THAT fresh.)\\n\",\n",
              " 'The potatoes were like rubber and you could tell they had been made up ahead of time being kept under a warmer.\\n',\n",
              " 'The fries were great too.\\n',\n",
              " 'A great touch.\\n']"
            ]
          },
          "execution_count": 57,
          "metadata": {},
          "output_type": "execute_result"
        }
      ],
      "source": [
        "docs[0:10]     # observa algunos de los primeros comentarios"
      ]
    },
    {
      "cell_type": "markdown",
      "metadata": {
        "id": "k_ewoagic5jc"
      },
      "source": [
        "#**Parte 2: sección de preguntas (regex).**   \n"
      ]
    },
    {
      "cell_type": "markdown",
      "metadata": {
        "id": "X-eMJa3DFCIV"
      },
      "source": [
        "##**Instrucciones:**\n",
        "\n",
        "###**A continuación deberás contestar cada una de las preguntas que te piden usando expresiones regulares (regex).**\n",
        "\n",
        "###**Por el momento no hay restricción en cuanto al número de líneas de código que agregues, pero trata de incluir las mínimas posibles.**"
      ]
    },
    {
      "cell_type": "markdown",
      "metadata": {
        "id": "78nJMemzn5a5"
      },
      "source": [
        "*   **Pregunta 1.** \n",
        "\n",
        "Busca y elimina todos los saltos de línea '\\n' que se encuentran al final de cada comentario. \n",
        "\n",
        "Una vez finalizado, imprime los primeros 10 comentarios del resultado obtenido.\n"
      ]
    },
    {
      "cell_type": "code",
      "execution_count": 58,
      "metadata": {
        "id": "PwbYYIuZn8pE"
      },
      "outputs": [
        {
          "data": {
            "text/plain": [
              "['Wow... Loved this place.',\n",
              " 'Crust is not good.',\n",
              " 'Not tasty and the texture was just nasty.',\n",
              " 'Stopped by during the late May bank holiday off Rick Steve recommendation and loved it.',\n",
              " 'The selection on the menu was great and so were the prices.',\n",
              " 'Now I am getting angry and I want my damn pho.',\n",
              " \"Honeslty it didn't taste THAT fresh.)\",\n",
              " 'The potatoes were like rubber and you could tell they had been made up ahead of time being kept under a warmer.',\n",
              " 'The fries were great too.',\n",
              " 'A great touch.']"
            ]
          },
          "execution_count": 58,
          "metadata": {},
          "output_type": "execute_result"
        }
      ],
      "source": [
        "new_doc = [item.rstrip() for item in docs]\n",
        "new_doc[0:10]"
      ]
    },
    {
      "cell_type": "markdown",
      "metadata": {
        "id": "VWeKQC93ctEo"
      },
      "source": [
        "*   **Pregunta 2.**  \n",
        "\n",
        "Busca e imprime todas las palabras que terminan con dos o más signos de admiración seguidos, por ejemplo \"!!!\". \n",
        "\n",
        "Debes imprimir tanto la palabra como la totalidad de signos de admiración que le siguen. \n",
        "\n",
        "Indica cuántos resultados obtuviste.\n",
        "\n"
      ]
    },
    {
      "cell_type": "code",
      "execution_count": 59,
      "metadata": {
        "id": "0p3kMXfddICc"
      },
      "outputs": [
        {
          "name": "stdout",
          "output_type": "stream",
          "text": [
            "Palabras:\n",
            "\n",
            "['Firehouse!!!!!', 'APPETIZERS!!!', 'amazing!!!', 'buffet!!!', 'good!!', 'it!!!!', 'DELICIOUS!!', 'amazing!!', 'shawarrrrrrma!!!!!!', 'yucky!!!', 'steak!!!!!', 'delicious!!!', 'far!!', 'biscuits!!!', 'dry!!', 'disappointing!!!', 'awesome!!', 'Up!!', 'FLY!!!!!!!!', 'here!!!', 'great!!!!!!!!!!!!!!', 'packed!!', 'otherwise!!', 'amazing!!!!!!!!!!!!!!!!!!!', 'style!!', 'disappointed!!']\n",
            "\n",
            "total de palabras: 26\n"
          ]
        }
      ],
      "source": [
        "pattern = r'\\w+!{2,}'\n",
        "words = [item.group() for sentence in docs for item in re.finditer(pattern, sentence)]\n",
        "\n",
        "print (f\"Palabras:\\n\\n{words}\\n\")\n",
        "print(f\"total de palabras: {len(words)}\")"
      ]
    },
    {
      "cell_type": "markdown",
      "metadata": {
        "id": "-s3okBqL96TT"
      },
      "source": [
        "*   **Pregunta 3.**  \n",
        "\n",
        "Busca e imprime todas las palabras que están escritas totalmente en mayúsculas. Cada coincidencia debe ser una sola palabra.\n",
        "\n",
        "Indica cuántas palabras encontraste.\n",
        "\n"
      ]
    },
    {
      "cell_type": "code",
      "execution_count": 60,
      "metadata": {
        "id": "yKHJkZKo_nW5"
      },
      "outputs": [
        {
          "name": "stdout",
          "output_type": "stream",
          "text": [
            "Palabras:\n",
            "\n",
            "['A' 'AGAIN' 'ALL' 'AN' 'AND' 'APPETIZERS' 'AVOID' 'AYCE' 'AZ' 'BACK'\n",
            " 'BARE' 'BARGAIN' 'BBQ' 'BEST' 'BETTER' 'BITCHES' 'BLAND' 'CONCLUSION'\n",
            " 'DELICIOUS' 'ESTABLISHMENT' 'EVER' 'EXPERIENCE' 'FANTASTIC' 'FLAVOR'\n",
            " 'FLY' 'FORWARD' 'FREEZING' 'FS' 'GC' 'GO' 'GREAT' 'HAD' 'HANDS'\n",
            " 'HAPPENED' 'HAVE' 'HOUR' 'I' 'IN' 'INCONSIDERATE' 'IT' 'LEGIT' 'LOVED'\n",
            " 'M' 'MANAGEMENT' 'MANY' 'MGM' 'MUST' 'NASTY' 'NEVER' 'NO' 'NONE' 'NOT'\n",
            " 'NOW' 'NYC' 'OF' 'OK' 'OMG' 'OVERPRICED' 'OWNERS' 'PEOPLE' 'PERFECT'\n",
            " 'REAL' 'REALLY' 'RI' 'RUDE' 'SCREAMS' 'SHOULD' 'STALE' 'STEP' 'T' 'THAT'\n",
            " 'THE' 'THIS' 'TIME' 'TOLD' 'TOTAL' 'TV' 'UNREAL' 'VERY' 'WASTE' 'WAY'\n",
            " 'WEAK' 'WHAT' 'WILL' 'WORST']\n",
            "\n",
            "total de palabras: 455\n"
          ]
        }
      ],
      "source": [
        "pattern = r'\\b[A-Z]+(?![a-z])\\b' \n",
        "words = re.findall(pattern, ' '.join(docs))\n",
        "print (f\"Palabras:\\n\\n{np.unique(words)}\\n\")\n",
        "print(f\"total de palabras: {len(words)}\")"
      ]
    },
    {
      "cell_type": "markdown",
      "metadata": {
        "id": "GX8eYyDoMZma"
      },
      "source": [
        "*   **Pregunta 4.**  \n",
        "\n",
        "Busca e imprime los comentarios en donde todos los caracteres alfabéticos (letras) están en mayúsculas. \n",
        "\n",
        "Cada coincidencia encontrada debe ser todo el comentario/enunciado.\n",
        "\n",
        "Indica cuántos resultados obtuviste.\n"
      ]
    },
    {
      "cell_type": "code",
      "execution_count": 61,
      "metadata": {
        "id": "K8VuZxvTMYj6"
      },
      "outputs": [
        {
          "name": "stdout",
          "output_type": "stream",
          "text": [
            "Palabras:\n",
            "\n",
            "['DELICIOUS!!\\n', 'RUDE & INCONSIDERATE MANAGEMENT.\\n', 'WILL NEVER EVER GO BACK AND HAVE TOLD MANY PEOPLE WHAT HAD HAPPENED.\\n', 'TOTAL WASTE OF TIME.\\n', 'AVOID THIS ESTABLISHMENT!\\n']\n",
            "\n",
            "total de palabras: 5\n"
          ]
        }
      ],
      "source": [
        "pattern = r'^[A-Z\\W\\d\\s]+$'\n",
        "words = [item for item in docs if re.match(pattern, item)]\n",
        "print (f\"Palabras:\\n\\n{words}\\n\")\n",
        "print(f\"total de palabras: {len(words)}\")"
      ]
    },
    {
      "cell_type": "markdown",
      "metadata": {
        "id": "a1i6qv7-McmU"
      },
      "source": [
        "*   **Pregunta 5.**  \n",
        "\n",
        "Busca e imprime todas las palabras que tengan una vocal acentuada, del tipo á, é, í, ó, ú. \n",
        "\n",
        "Indica cuántos resultados obtuviste."
      ]
    },
    {
      "cell_type": "code",
      "execution_count": 62,
      "metadata": {
        "id": "nZZ5zKUOMeGD"
      },
      "outputs": [
        {
          "name": "stdout",
          "output_type": "stream",
          "text": [
            "Palabras:\n",
            "\n",
            "['fiancé', 'Café', 'puréed']\n",
            "\n",
            "total de palabras: 3\n"
          ]
        }
      ],
      "source": [
        "pattern = r'\\b(?=\\w*[áéíóúÁÉÍÓÚ])\\w+\\b'\n",
        "words = re.findall(pattern, ' '.join(docs))\n",
        "\n",
        "print (f\"Palabras:\\n\\n{words}\\n\")\n",
        "print(f\"total de palabras: {len(words)}\")"
      ]
    },
    {
      "cell_type": "markdown",
      "metadata": {
        "id": "ZmPiAI82Mfb3"
      },
      "source": [
        "*   **Pregunta 6.**  \n",
        "\n",
        "Busca e imprime todas las cantidades numéricas monetarias, enteras o con decimales, que inician con el símbolo $\\$$. \n",
        "\n",
        "Indica cuántos resultados obtuviste."
      ]
    },
    {
      "cell_type": "code",
      "execution_count": 63,
      "metadata": {
        "id": "6vhe9-Y-MhL9"
      },
      "outputs": [
        {
          "name": "stdout",
          "output_type": "stream",
          "text": [
            "Palabras:\n",
            "\n",
            "['$20', '$4.00', '$17', '$3', '$35', '$7.85', '$12', '$11.99']\n",
            "\n",
            "total de palabras: 8\n"
          ]
        }
      ],
      "source": [
        "pattern = r'\\$\\d+\\.?\\d*'\n",
        "words = re.findall(pattern, ' '.join(docs))\n",
        "\n",
        "print (f\"Palabras:\\n\\n{words}\\n\")\n",
        "print(f\"total de palabras: {len(words)}\")"
      ]
    },
    {
      "cell_type": "markdown",
      "metadata": {
        "id": "2j-HpvhwMhq2"
      },
      "source": [
        "*   **Pregunta 7.**  \n",
        "\n",
        "Busca e imprime todas las palabras que sean variantes de la palabra \"love\", sin importar si incluyen mayúsculas o minúsculas, o la manera en que esté conjugada o alguna otra variación que se haga con dicha palabra.\n",
        "\n",
        "Indica cuántos resultados obtuviste."
      ]
    },
    {
      "cell_type": "code",
      "execution_count": 64,
      "metadata": {
        "id": "kqqyRChVMjol"
      },
      "outputs": [
        {
          "name": "stdout",
          "output_type": "stream",
          "text": [
            "Palabras:\n",
            "\n",
            "['Loved', 'loved', 'Loved', 'love', 'loves', 'LOVED', 'lovers', 'loving', 'love', 'lovers', 'Love', 'loved', 'loved', 'love', 'love', 'love', 'loved', 'love', 'loved', 'Love', 'LOVED', 'love', 'lovely', 'love', 'lovely', 'love', 'lover', 'loved', 'love', 'love', 'love', 'love', 'love', 'love', 'love', 'love']\n",
            "\n",
            "total de palabras: 36\n"
          ]
        }
      ],
      "source": [
        "pattern = r'\\b[lL][oO][vV]\\w*\\b'\n",
        "words = re.findall(pattern, ' '.join(docs))\n",
        "\n",
        "print (f\"Palabras:\\n\\n{words}\\n\")\n",
        "print(f\"total de palabras: {len(words)}\")"
      ]
    },
    {
      "cell_type": "markdown",
      "metadata": {
        "id": "Ctb-NTY3MkYG"
      },
      "source": [
        "*   **Pregunta 8.**  \n",
        "\n",
        "Busca e imprime todas las palabras, variantes de \"so\" y \"good\", que tengan dos o más \"o\" en \"so\" y 3 o más \"o\" en good. \n",
        "\n",
        "Indica cuántas encontraste.\n"
      ]
    },
    {
      "cell_type": "code",
      "execution_count": 65,
      "metadata": {
        "id": "A8Nf3B_cMlqg"
      },
      "outputs": [
        {
          "name": "stdout",
          "output_type": "stream",
          "text": [
            "Palabras:\n",
            "\n",
            "['soon', 'soooo', 'soon', 'soon', 'gooodd', 'soon', 'soon', 'soooooo', 'soon', 'soon', 'soooo', 'soon', 'soon']\n",
            "\n",
            "total de palabras: 13\n"
          ]
        }
      ],
      "source": [
        "pattern = r'\\bso{2,}\\w*\\b|go{3,}d\\w*\\b'\n",
        "words = re.findall(pattern, ' '.join(docs))\n",
        "\n",
        "print (f\"Palabras:\\n\\n{words}\\n\")\n",
        "print(f\"total de palabras: {len(words)}\")"
      ]
    },
    {
      "cell_type": "markdown",
      "metadata": {
        "id": "hkak1opjMmlk"
      },
      "source": [
        "*   **Pregunta 9.**  \n",
        "\n",
        "Busca e imprime todas las palabras que tengan una longitud mayor estrictamente a 10 caracteres alfabéticos.\n",
        "\n",
        "No se consideran los signos de puntuación o caracteres especiales en la longitud de estas cadenas, solo caracteres alfabéticos en mayúsculas o minúsculas.\n",
        "\n",
        "Indica la cantidad de palabras encontradas.\n"
      ]
    },
    {
      "cell_type": "code",
      "execution_count": 66,
      "metadata": {
        "id": "PYxdp3uhMoD0"
      },
      "outputs": [
        {
          "name": "stdout",
          "output_type": "stream",
          "text": [
            "Palabras:\n",
            "\n",
            "['recommendation', 'recommended', 'overwhelmed', 'inexpensive', 'establishment', 'imaginative', 'opportunity', 'experiencing', 'underwhelming', 'relationship', 'unsatisfying', 'disappointing', 'outrageously', 'disappointing', 'expectations', 'restaurants', 'suggestions', 'disappointed', 'considering', 'Unfortunately', 'immediately', 'ingredients', 'accommodations', 'maintaining', 'Interesting', 'disrespected', 'accordingly', 'unbelievable', 'cheeseburger', 'descriptions', 'inexpensive', 'disappointed', 'Veggitarian', 'outstanding', 'recommendation', 'disappointed', 'disappointed', 'neighborhood', 'disappointed', 'corporation', 'considering', 'exceptional', 'shawarrrrrrma', 'disappointed', 'vinaigrette', 'immediately', 'unbelievably', 'replenished', 'disappointed', 'enthusiastic', 'Outstanding', 'comfortable', 'interesting', 'INCONSIDERATE', 'considering', 'transcendant', 'disappointment', 'disappointed', 'disappointed', 'overwhelmed', 'professional', 'Furthermore', 'combination', 'connoisseur', 'profiterole', 'outstanding', 'acknowledged', 'ventilation', 'beautifully', 'establishment', 'extraordinary', 'disappointed', 'cheesecurds', 'disappointed', 'interesting', 'experienced', 'opportunity', 'disgraceful', 'restaurants', 'ESTABLISHMENT', 'recommended', 'disappointed', 'recommended', 'acknowledged', 'presentation', 'Philadelphia', 'disappointed', 'disappointing', 'grandmother', 'drastically', 'informative', 'Disappointed', 'constructed', 'comfortable', 'Smashburger', 'cheeseburger', 'neighborhood', 'disappointed', 'hospitality', 'recommending', 'disappointed', 'deliciously', 'compliments', 'recommendation', 'establishment', 'calligraphy', 'traditional', 'combination', 'Unfortunately', 'Wienerschnitzel', 'unfortunately', 'considering', 'highlighted', 'Mediterranean', 'unprofessional', 'anticipated', 'disappointing', 'unexperienced', 'disrespected', 'professional', 'restaurants', 'Disappointing', 'WAAAAAAyyyyyyyyyy', 'reservation', 'imagination', 'undercooked', 'disappointed', 'disappointment', 'disappointment', 'deuchebaggery', 'disappointed', 'disappointment', 'immediately', 'Unfortunately', 'disapppointment', 'circumstances', 'undercooked', 'caterpillar', 'presentation', 'disappointed', 'underwhelming']\n",
            "\n",
            "total de palabras: 141\n"
          ]
        }
      ],
      "source": [
        "pattern = r'\\b[\\w]{11,}'\n",
        "words = re.findall(pattern, \" \".join(docs))\n",
        "\n",
        "print (f\"Palabras:\\n\\n{words}\\n\")\n",
        "print(f\"total de palabras: {len(words)}\")"
      ]
    },
    {
      "cell_type": "markdown",
      "metadata": {
        "id": "ApjTNzSxMpDc"
      },
      "source": [
        "*   **Pregunta 10.**  \n",
        "\n",
        "Busca e imprime todas las palabras que inician con una letra mayúscula y terminan con una minúscula, pero que además no sea la primera palabra del comentario/string. \n",
        "\n",
        "Indica la cantidad de resultados obtenidos."
      ]
    },
    {
      "cell_type": "code",
      "execution_count": 67,
      "metadata": {
        "id": "Vb0ndRGAMqdL"
      },
      "outputs": [
        {
          "name": "stdout",
          "output_type": "stream",
          "text": [
            "Palabras:\n",
            "\n",
            "['Loved', 'May', 'Rick', 'Steve', 'Cape', 'Cod', 'Vegas', 'Burrittos', 'Blah', 'The', 'They', 'Mexican', 'Luke', 'Our', 'Hiro', 'Firehouse', 'Greek', 'Greek', 'Heart', 'Attack', 'Grill', 'Vegas', 'Dos', 'Gringos', 'Jeff', 'Really', 'Excalibur', 'Very', 'Bad', 'Customer', 'Service', 'Vegas', 'Rice', 'Company', 'Pho', 'Hard', 'Rock', 'Casino', 'Buffet', 'Tigerlilly', 'Yama', 'Thai', 'Indian', 'Not', 'Vegas', 'Lox', 'Subway', 'Subway', 'Vegas', 'Vegas', 'Mandalay', 'Bay', 'Great', 'Voodoo', 'Phoenix', 'Vegas', 'Khao', 'Soi', 'Lemon', 'Joey', 'Valley', 'Phoenix', 'Magazine', 'Pho', 'Fridays', 'Tasty', 'Jamaican', 'Bisque', 'Bussell', 'Sprouts', 'Risotto', 'Filet', 'Otto', 'Yeah', 'Honestly', 'Not', 'Also', 'Vegas', 'Greek', 'Vegas', 'Veggitarian', 'Madison', 'Ironman', 'Jenni', 'Pho', 'Bachi', 'Burger', 'Pizza', 'Salads', 'They', 'Yelpers', 'Bachi', 'Service', 'English', 'Pizza', 'Hut', 'Seat', 'Gold', 'Standard', 'Thai', 'Tucson', 'Vegas', 'Chipotle', 'Baseball', 'Gordon', 'Ramsey', 'Steak', 'Vegas', 'Outstanding', 'Best', 'Food', 'Lobster', 'Bisque', 'Vegas', 'Eggplant', 'Green', 'Bean', 'Halibut', 'Vegas', 'Vegas', 'Vegas', 'Crystals', 'Aria', 'Ians', 'Bouchon', 'San', 'Francisco', 'Bay', 'Area', 'Buldogis', 'Gourmet', 'Hot', 'Dog', 'Steiners', 'Carly', 'Vegas', 'Camelback', 'Flower', 'Shop', 'Cartel', 'Coffee', 'Las', 'Vegas', 'Bunch', 'Very', 'Mom', 'Noca', 'Vegas', 'Sat', 'Sun', 'Mexican', 'Frenchman', 'Perfect', 'Vegas', 'Palm', 'Are', 'This', 'Thai', 'Toast', 'Thai', 'Phoenix', 'Crema', 'Philadelphia', 'North', 'Scottsdale', 'Bloody', 'Mary', 'Pho', 'Caesar', 'Macarons', 'Experience', 'Very', 'Disappointed', 'Big', 'Bay', 'Plater', 'Italian', 'Vegas', 'Baba', 'Ganoush', 'Nobu', 'Smashburger', 'Panna', 'Cotta', 'Breeze', 'Mango', 'Magic', 'Pineapple', 'Delight', 'The', 'Strip', 'Steak', 'Paradise', 'Valley', 'Cibo', 'Thumbs', 'Up', 'Italian', 'Pros', 'Large', 'Nice', 'Great', 'The', 'Elk', 'Filet', 'Dylan', 'All', 'Han', 'Nan', 'Chicken', 'Bar', 'Edinburgh', 'Chinese', 'Indian', 'Chinese', 'Prices', 'Phoenix', 'Both', 'Hot', 'Sour', 'Egg', 'Flower', 'Soups', 'Stars', 'Sunday', 'Hunan', 'The', 'Pita', 'Wienerschnitzel', 'Maine', 'Lobster', 'Roll', 'Kabuki', 'Maria', 'Caballero', 'Wife', 'Everything', 'Strip', 'Costco', 'To', 'Place', 'Gyros', 'Japanese', 'Albondigas', 'Mediterranean', 'Chicken', 'Salad', 'Mellow', 'Mushroom', 'Thai', 'Vegas', 'Mmmm', 'Buffet', 'Bellagio', 'Vegas', 'Christmas', 'Eve', 'Denny', 'Vegetarian', 'Taco', 'Heimer', 'Ha', 'Long', 'Bay', 'Subway', 'When', 'Brushfire', 'Mirage', 'In', 'Ninja', 'Sushi']\n",
            "\n",
            "total de palabras: 271\n"
          ]
        }
      ],
      "source": [
        "pattern = r\"\\b[A-Z]\\w*[a-z]\\b\"\n",
        "words = []\n",
        "\n",
        "for comment in docs:\n",
        "    matches = re.findall(pattern, \" \".join(comment.split()[1:]))\n",
        "    words.extend(matches)\n",
        "     \n",
        "print (f\"Palabras:\\n\\n{words}\\n\")\n",
        "print(f\"total de palabras: {len(words)}\")"
      ]
    },
    {
      "cell_type": "markdown",
      "metadata": {
        "id": "u7nfm4KhMrNW"
      },
      "source": [
        "*   **Pregunta 11.**  \n",
        "\n",
        "Busca e imprime la secuencia de dos o más palabras que están separadas por un guion, \"-\", sin que tengan espacios en blanco entre ellas.\n",
        "\n",
        "Por ejemplo \"Go-Kart\" sería válido, pero \"Go  -Kart\" o \"Go  -  Kart\" no lo serían. \n",
        "\n",
        "Indica la cantidad de resultados obtenidos."
      ]
    },
    {
      "cell_type": "code",
      "execution_count": 68,
      "metadata": {
        "id": "OwU-a7eGMsub"
      },
      "outputs": [
        {
          "name": "stdout",
          "output_type": "stream",
          "text": [
            "Palabras:\n",
            "\n",
            "['flat-lined', 'hands-down', 'must-stop', 'sub-par', 'Service-check', 'in-house', 'been-stepped', 'in-and', 'tracked-everywhere', 'multi-grain', 'to-go', 'non-customer', 'High-quality', 'sit-down', 'over-whelm', 'low-key', 'non-fancy', 'golden-crispy', 'over-priced', 'over-hip', 'under-services']\n",
            "\n",
            "total de palabras: 21\n"
          ]
        }
      ],
      "source": [
        "pattern = r\"[A-z]+-[a-z]+\"\n",
        "words = re.findall(pattern, ' '.join(docs))\n",
        "print (f\"Palabras:\\n\\n{words}\\n\")\n",
        "print(f\"total de palabras: {len(words)}\")"
      ]
    },
    {
      "cell_type": "markdown",
      "metadata": {
        "id": "DEIgl79HMthr"
      },
      "source": [
        "*   **Pregunta 12.**  \n",
        "\n",
        "Busca e imprime todas las palabras que terminan en \"ing\" o \"ed\". \n",
        "\n",
        "Indica la cantidad de palabras que encontraste de cada una."
      ]
    },
    {
      "cell_type": "code",
      "execution_count": 69,
      "metadata": {
        "id": "I4TSofBMMv9y"
      },
      "outputs": [
        {
          "name": "stdout",
          "output_type": "stream",
          "text": [
            "Palabras en ing:\n",
            "\n",
            "['during', 'getting', 'being', 'being', 'amazing', 'running', 'redeeming', 'getting', 'thing', 'dressing', 'refreshing', 'running', 'amazing', 'nothing', 'appalling', 'wasting', 'eating', 'going', 'Coming', 'experiencing', 'underwhelming', 'eating', 'raving', 'spring', 'unsatisfying', 'amazing', 'Everything', 'disappointing', 'dining', 'flirting', 'thing', 'coming', 'playing', 'ordering', 'arriving', 'disappointing', 'preparing', 'loving', 'liking', 'reviewing', 'venturing', 'including', 'during', 'changing', 'going', 'considering', 'coming', 'going', 'everything', 'looking', 'dressing', 'dining', 'Everything', 'amazing', 'judging', 'maintaining', 'asking', 'having', 'something', 'lacking', 'Interesting', 'preparing', 'missing', 'feeling', 'exceeding', 'inviting', 'climbing', 'waiting', 'coming', 'being', 'lacking', 'going', 'amazing', 'dealing', 'annoying', 'falling', 'sporting', 'amazing', 'providing', 'building', 'lighting', 'going', 'nothing', 'working', 'eating', 'dressing', 'being', 'outstanding', 'getting', 'amazing', 'rating', 'eating', 'writing', 'everything', 'dining', 'boring', 'charming', 'going', 'making', 'pricing', 'considering', 'amazing', 'Everything', 'nothing', 'nothing', 'driving', 'during', 'evening', 'Outstanding', 'buying', 'handling', 'wasting', 'craving', 'dining', 'interesting', 'amazing', 'being', 'outshining', 'starving', 'coming', 'considering', 'shopping', 'nothing', 'getting', 'trying', 'eating', 'going', 'everything', 'Nothing', 'going', 'outstanding', 'running', 'forgetting', 'upgrading', 'eating', 'bring', 'hoping', 'living', 'dining', 'filling', 'amazing', 'Everything', 'thing', 'amazing', 'Everything', 'interesting', 'amazing', 'amazing', 'waiting', 'going', 'going', 'dining', 'saving', 'something', 'trying', 'disgusting', 'hankering', 'being', 'being', 'being', 'setting', 'sitting', 'waiting', 'satisfying', 'eating', 'being', 'freaking', 'getting', 'amazing', 'disappointing', 'seasoning', 'going', 'being', 'bring', 'letting', 'evening', 'waiting', 'being', 'eating', 'going', 'seating', 'playing', 'amazing', 'staying', 'giving', 'talking', 'amazing', 'amazing', 'amazing', 'amazing', 'filling', 'dripping', 'going', 'serving', 'recommending', 'thing', 'reading', 'seating', 'going', 'everything', 'thing', 'sitting', 'waiting', 'bring', 'revisiting', 'coming', 'anything', 'feeling', 'during', 'thing', 'being', 'amazing', 'being', 'amazing', 'satifying', 'describing', 'coming', 'everything', 'Paying', 'going', 'thing', 'amazing', 'getting', 'cramming', 'considering', 'fucking', 'going', 'appealing', 'getting', 'coming', 'Everything', 'dealing', 'everything', 'something', 'during', 'dining', 'cooking', 'dining', 'editing', 'setting', 'amazing', 'rotating', 'Pricing', 'satisfying', 'disappointing', 'amazing', 'returning', 'running', 'being', 'thing', 'nothing', 'poisoning', 'thinking', 'something', 'going', 'disgusting', 'caring', 'bring', 'Disappointing', 'saying', 'going', 'coming', 'building', 'seating', 'dipping', 'setting', 'anything', 'drinking', 'serving', 'doing', 'putting', 'getting', 'looking', 'coming', 'staying', 'lacking', 'underwhelming', 'drawing', 'bring']\n",
            "\n",
            "total de palabras en ing: 279\n",
            "\n",
            "\n",
            "Palabras en ed:\n",
            "\n",
            "['Loved', 'Stopped', 'loved', 'ended', 'overpriced', 'tried', 'disgusted', 'shocked', 'recommended', 'performed', 'red', 'asked', 'overwhelmed', 'grossed', 'melted', 'provided', 'cooked', 'ordered', 'realized', 'Loved', 'lined', 'cooked', 'ripped', 'ripped', 'petrified', 'included', 'expected', 'seasoned', 'cheated', 'walked', 'smelled', 'tailored', 'arrived', 'roasted', 'added', 'cooked', 'passed', 'liked', 'managed', 'served', 'overpriced', 'checked', 'disappointed', 'red', 'decorated', 'served', 'watched', 'greeted', 'seated', 'waited', 'flavored', 'ordered', 'ordered', 'relocated', 'impressed', 'seated', 'priced', 'treated', 'ordered', 'used', 'handed', 'listed', 'missed', 'thrilled', 'inspired', 'desired', 'overcooked', 'decided', 'looked', 'dressed', 'treated', 'ordered', 'sucked', 'expected', 'sucked', 'imagined', 'served', 'arrived', 'satisfied', 'voted', 'insulted', 'disrespected', 'dreamed', 'lived', 'stepped', 'mixed', 'showed', 'realized', 'loved', 'needed', 'loved', 'wrapped', 'uninspired', 'Ordered', 'uploaded', 'covered', 'supposed', 'rolled', 'stayed', 'Based', 'received', 'privileged', 'charged', 'visited', 'proclaimed', 'disappointed', 'Stopped', 'dedicated', 'liked', 'disappointed', 'waited', 'waited', 'burned', 'waited', 'disappointed', 'Waited', 'disappointed', 'pulled', 'prepared', 'fried', 'passed', 'ordered', 'toasted', 'untoasted', 'figured', 'returned', 'eyed', 'disappointed', 'pleased', 'replenished', 'disappointed', 'treated', 'offered', 'tasted', 'dropped', 'decorated', 'served', 'walked', 'stuffed', 'located', 'Cooked', 'disappointed', 'screwed', 'frustrated', 'iced', 'stuffed', 'disappointed', 'grossed', 'enjoyed', 'looked', 'overwhelmed', 'stayed', 'smeared', 'stepped', 'tracked', 'tried', 'rushed', 'loved', 'Ordered', 'cooked', 'insulted', 'contained', 'enjoyed', 'relaxed', 'loved', 'acknowledged', 'trimmed', 'cooked', 'claimed', 'handled', 'asked', 'limited', 'boiled', 'liked', 'sliced', 'attached', 'humiliated', 'fried', 'impressed', 'disappointed', 'priced', 'disappointed', 'need', 'need', 'experienced', 'waited', 'seated', 'decided', 'pleased', 'recommended', 'helped', 'witnessed', 'Waited', 'waited', 'waited', 'checked', 'tasted', 'disappointed', 'served', 'rated', 'recommended', 'pulled', 'waited', 'acknowledged', 'perpared', 'dusted', 'powdered', 'enjoyed', 'expanded', 'ended', 'arrived', 'wanted', 'disappointed', 'need', 'checked', 'impressed', 'reheated', 'tasted', 'grilled', 'focused', 'roasted', 'asked', 'ignored', 'tasted', 'Ordered', 'greeted', 'seated', 'Tried', 'seated', 'Disappointed', 'ordered', 'constructed', 'fried', 'requested', 'used', 'tasted', 'drenched', 'tried', 'walked', 'expected', 'disappointed', 'mortified', 'impressed', 'refrained', 'pleased', 'loved', 'grilled', 'reminded', 'sucked', 'hooked', 'ordered', 'disappointed', 'seasoned', 'added', 'touched', 'fried', 'opened', 'impressed', 'watched', 'Tasted', 'ordered', 'received', 'impressed', 'overcooked', 'cooked', 'needed', 'served', 'ordered', 'overpriced', 'packed', 'opposed', 'priced', 'surprised', 'focused', 'overpriced', 'tried', 'enjoyed', 'qualified', 'tasted', 'hated', 'watched', 'fried', 'tried', 'helped', 'started', 'highlighted', 'used', 'enjoyed', 'ordered', 'tasted', 'asked', 'refused', 'tried', 'toasted', 'anticipated', 'unexperienced', 'insulted', 'disrespected', 'impressed', 'puréed', 'asked', 'rated', 'lacked', 'sliced', 'pulled', 'undercooked', 'seemed', 'watered', 'lacked', 'disappointed', 'overpriced', 'ensued', 'disappointed', 'placed', 'avoided', 'received', 'wanted', 'sucked', 'happened', 'owned', 'wanted', 'Overpriced', 'vomited', 'started', 'unwrapped', 'lacked', 'seemed', 'undercooked', 'closed', 'refried', 'dried', 'disappointed', 'impressed', 'wasted', 'poured']\n",
            "\n",
            "Total de palabras en ed: 335\n",
            "\n",
            "\n",
            "Total de palabras (ed + ing): 614 \n"
          ]
        }
      ],
      "source": [
        "pattern = r\"\\b\\w+(?:ing)\\b\"\n",
        "total = 0\n",
        "\n",
        "words = re.findall(pattern, ' '.join(docs))\n",
        "print (f\"Palabras en ing:\\n\\n{words}\\n\")\n",
        "print(f\"total de palabras en ing: {len(words)}\\n\\n\")\n",
        "total = total + len(words)\n",
        "\n",
        "pattern = r\"\\b\\w+(?:ed)\\b\"\n",
        "words = re.findall(pattern, ' '.join(docs))\n",
        "total = total + len(words)\n",
        "\n",
        "print (f\"Palabras en ed:\\n\\n{words}\\n\")\n",
        "print(f\"Total de palabras en ed: {len(words)}\\n\\n\")\n",
        "\n",
        "print (f\"Total de palabras (ed + ing): {total} \")"
      ]
    },
    {
      "cell_type": "markdown",
      "metadata": {
        "id": "70StdqAZa9E9"
      },
      "source": [
        "#**Parte 3. Proceso de limpieza.**"
      ]
    },
    {
      "cell_type": "markdown",
      "metadata": {
        "id": "xaDUFXHrMvX2"
      },
      "source": [
        "*   **Pregunta 13.**  \n",
        "\n",
        "Ahora realiza un proceso de limpieza del corpus que incluya los siguientes procesos:\n",
        "\n",
        "*   Solo se deben considerar caracteres alfabéticos. Es decir, se eliminan todos los signos de puntuación y caracteres especiales.\n",
        "*   Todos los caracteres alfabéticos se transforman a minúsculas.\n",
        "*   Se deben eliminar todos los espacios en blanco adicionales que se puedan encontrar en cada comentario.\n",
        "\n",
        "Al finalizar dicho proceso de limpieza, imprime el resultado de los primeros 10 comentarios resultantes. \n",
        "   \n",
        "\n",
        "\n"
      ]
    },
    {
      "cell_type": "code",
      "execution_count": 119,
      "metadata": {
        "id": "K3kQzPOPMx0w"
      },
      "outputs": [
        {
          "data": {
            "text/plain": [
              "['wow loved this place',\n",
              " 'crust is not good',\n",
              " 'not tasty and the texture was just nasty',\n",
              " 'stopped by during the late may bank holiday off rick steve recommendation and loved it',\n",
              " 'the selection on the menu was great and so were the prices',\n",
              " 'now i am getting angry and i want my damn pho',\n",
              " 'honeslty it didnt taste that fresh',\n",
              " 'the potatoes were like rubber and you could tell they had been made up ahead of time being kept under a warmer',\n",
              " 'the fries were great too',\n",
              " 'a great touch']"
            ]
          },
          "execution_count": 119,
          "metadata": {},
          "output_type": "execute_result"
        }
      ],
      "source": [
        "comments = []\n",
        "\n",
        "for line in docs:\n",
        "    txt = re.sub(r\"['+%*_=&#\\$.,;:?¿!¡\\\"\\(\\)\\d/-]+\", '', line)\n",
        "    txt = txt.lower()\n",
        "    txt = \" \".join(txt.split()) #Elimina espacios en blanco adicionales\n",
        "    comments.append(txt)\n",
        "\n",
        "comments[0:10]\n",
        "    "
      ]
    },
    {
      "cell_type": "markdown",
      "metadata": {
        "id": "WZwEhg2lUSAX"
      },
      "source": [
        "*   **Pregunta 14.**  \n",
        "\n",
        "Con el resultado de la limpieza obtenido en la pregunta anterior, realiza ahora un proceso de tokenización por palabras del corpus. \n",
        "\n",
        "Es decir, al final de este proceso de tokenización, debes tener como resultado una lista de listas, donde cada comentario estará tokenizado por palabras.\n",
        "\n",
        "Al terminar calcula el total de tokens obtenido en todo el corpus. "
      ]
    },
    {
      "cell_type": "code",
      "execution_count": 120,
      "metadata": {
        "id": "kbAL9-v0V-jx"
      },
      "outputs": [
        {
          "name": "stdout",
          "output_type": "stream",
          "text": [
            "Tokens de los primeros 10 comentarios :\n",
            "\n",
            "[['wow', 'loved', 'this', 'place'], ['crust', 'is', 'not', 'good'], ['not', 'tasty', 'and', 'the', 'texture', 'was', 'just', 'nasty'], ['stopped', 'by', 'during', 'the', 'late', 'may', 'bank', 'holiday', 'off', 'rick', 'steve', 'recommendation', 'and', 'loved', 'it'], ['the', 'selection', 'on', 'the', 'menu', 'was', 'great', 'and', 'so', 'were', 'the', 'prices'], ['now', 'i', 'am', 'getting', 'angry', 'and', 'i', 'want', 'my', 'damn', 'pho'], ['honeslty', 'it', 'didnt', 'taste', 'that', 'fresh'], ['the', 'potatoes', 'were', 'like', 'rubber', 'and', 'you', 'could', 'tell', 'they', 'had', 'been', 'made', 'up', 'ahead', 'of', 'time', 'being', 'kept', 'under', 'a', 'warmer'], ['the', 'fries', 'were', 'great', 'too'], ['a', 'great', 'touch']]\n",
            "\n",
            "total de Tokens: 10777\n"
          ]
        }
      ],
      "source": [
        "tokens = [line.split(' ') for line in comments]#[re.findall(r'\\b[A-z\\']+\\b',line.lower()) for line in comments]\n",
        "total = 0\n",
        "\n",
        "for line_tokens in tokens:\n",
        "    total = total + len(line_tokens)\n",
        "    \n",
        "\n",
        "\n",
        "print (f\"Tokens de los primeros 10 comentarios :\\n\\n{tokens[0:10]}\\n\")\n",
        "print(f\"total de Tokens: {total}\")\n"
      ]
    },
    {
      "cell_type": "markdown",
      "metadata": {
        "id": "EFeu0OJ7WDPD"
      },
      "source": [
        "*   **Pregunta 15.**  \n",
        "\n",
        "Finalmente, en este ejercicio definiremos nuestro conjunto de palabras \"stopwords\", las cuales deberás eliminar de todo el corpus. \n",
        "\n",
        "Recuerda que ejemplos de stopwords son artículos, adverbios, conectivos, etcétera, que tienen frecuencias de aparición muy altas en cualquier documento, pero que no brindan mucho significado en cuanto al significado de un enunciado.\n",
        "\n",
        "Con base a la lista de stopwords que se te proporciona, realiza un proceso de limpieza eliminando todas estas palabras del corpus obtenido en el ejercicio anterior.\n",
        "\n",
        "Obtener cuántos tokens/palabras quedan finalmente en todo el corpus.\n",
        "\n",
        "Obtener cuántos de estos tokens/palabras son diferentes, es decir, cuántos tokens únicos tendrá lo que llamaremos más adelante nuestro vocabulario."
      ]
    },
    {
      "cell_type": "code",
      "execution_count": 72,
      "metadata": {
        "id": "6FP4FF3KXGxm"
      },
      "outputs": [],
      "source": [
        "# Considera la siguiente lista como tu conjunto de stopwords:\n",
        "mis_stopwords = ['i', 'me', 'my', 'myself', 'we', 'our', 'ours', 'ourselves', 'you', 'your', 'yours', 'he', 'him', 'his', 'himself', 'she', 'her', 'hers', 'herself', 'it', 'its', 'itself', 'they', 'them', 'their', 'theirs', 'themselves', 'what', 'which', 'who', 'whom', 'this', 'that', 'these', 'those', 'am', 'is', 'are', 'was', 'were', 'be', 'been', 'being', 'have', 'has', 'had', 'having', 'do', 'does', 'did', 'doing', 'a', 'an', 'the', 'and', 'but', 'if', 'or', 'because', 'as', 'until', 'while', 'of', 'at', 'by', 'for', 'with', 'about', 'against', 'between', 'into', 'through', 'during', 'before', 'after', 'above', 'below', 'to', 'from', 'up', 'down', 'in', 'out', 'on', 'over', 'under', 'again', 'further', 'then', 'once', 'here', 'there', 'when', 'where', 'why', 'how', 'all', 'any', 'both', 'each', 'few', 'more', 'most', 'other', 'some', 'such', 'only', 'own', 'same', 'so', 'than', 'too', 'very', 's', 't', 'can', 'will', 'just', 'should', 'now', 'll']"
      ]
    },
    {
      "cell_type": "code",
      "execution_count": 121,
      "metadata": {
        "id": "CD8yjyq1ZrwY"
      },
      "outputs": [],
      "source": [
        "tokens_wo_stopwords = []\n",
        "\n",
        "for line in tokens:\n",
        "    for word in line:\n",
        "        \n",
        "        if word.lower() in mis_stopwords:\n",
        "            continue\n",
        "    \n",
        "        tokens_wo_stopwords.append(word)"
      ]
    },
    {
      "cell_type": "code",
      "execution_count": 122,
      "metadata": {
        "id": "4ZPi5prKZro5"
      },
      "outputs": [
        {
          "name": "stdout",
          "output_type": "stream",
          "text": [
            "Primeros 20 tokens:\n",
            "\n",
            "['wow', 'loved', 'place', 'crust', 'not', 'good', 'not', 'tasty', 'texture', 'nasty', 'stopped', 'late', 'may', 'bank', 'holiday', 'off', 'rick', 'steve', 'recommendation', 'loved']\n",
            "\n",
            "Total de Tokens: 5776\n",
            "\n",
            "Total de Tokens únicos: 1941\n"
          ]
        }
      ],
      "source": [
        "tokens_wo_stopwords\n",
        "\n",
        "print (f\"Primeros 20 tokens:\\n\\n{tokens_wo_stopwords[0:20]}\\n\")\n",
        "print(f\"Total de Tokens: {len(tokens_wo_stopwords)}\\n\")\n",
        "print(f\"Total de Tokens únicos: {len(np.unique(tokens_wo_stopwords))}\" )"
      ]
    },
    {
      "cell_type": "markdown",
      "metadata": {
        "id": "NDbKkuxRbLoX"
      },
      "source": [
        "*   **Comentarios**\n",
        "\n",
        "Incluye finalmente tus comentarios de la actividad."
      ]
    },
    {
      "cell_type": "markdown",
      "metadata": {
        "id": "o7fzbvqVbUGr"
      },
      "source": [
        "<< incluye aquí tus comentarios >>"
      ]
    },
    {
      "cell_type": "markdown",
      "metadata": {
        "id": "PHaKw_6Ldbaf"
      },
      "source": [
        "##**Fin de la Actividad de la semana 2.**"
      ]
    }
  ],
  "metadata": {
    "colab": {
      "collapsed_sections": [
        "759SG4TyfbUn",
        "Zj-h4drXD-X9",
        "BY6yifxscfrx",
        "k_ewoagic5jc",
        "70StdqAZa9E9"
      ],
      "provenance": []
    },
    "kernelspec": {
      "display_name": "Python 3",
      "name": "python3"
    },
    "language_info": {
      "codemirror_mode": {
        "name": "ipython",
        "version": 3
      },
      "file_extension": ".py",
      "mimetype": "text/x-python",
      "name": "python",
      "nbconvert_exporter": "python",
      "pygments_lexer": "ipython3",
      "version": "3.10.6"
    }
  },
  "nbformat": 4,
  "nbformat_minor": 0
}
